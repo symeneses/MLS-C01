{
 "cells": [
  {
   "cell_type": "markdown",
   "metadata": {},
   "source": [
    "# Recurrent Neural Networks\n",
    "\n",
    "A recurrent neuron or unit has as input the output of the last iteration, therefore, its behaviour depends on its history. With that, memory as learning mechanism emerges. They are ideal for time series, text and, in general, for inputs with unknown length.\n",
    "\n",
    "## RNN Topologies\n",
    "\n",
    "Different topoligies apply to different use cases:\n",
    "\n",
    "- Sequence to sequence: predict time series\n",
    "- Sequence to vector: sentiment analysis\n",
    "- Vector to sequence: image labeling\n",
    "- Encoder -> Decoder: machine translation\n",
    "\n",
    "## Cell types\n",
    "\n",
    "Special cells have been developed to give equal weight to past and recent events.\n",
    "\n",
    "- Long Short Time Memory (LSTM):\n",
    "- Gated Recurrent Unit (GRU) \n",
    "\n",
    "## Practical aspects\n",
    "\n",
    "- Backpropagation not only through layers but also throug time \n",
    "- Only with tunned parameters, they will converge"
   ]
  },
  {
   "cell_type": "code",
   "execution_count": null,
   "metadata": {},
   "outputs": [],
   "source": []
  },
  {
   "cell_type": "code",
   "execution_count": null,
   "metadata": {},
   "outputs": [],
   "source": []
  },
  {
   "cell_type": "code",
   "execution_count": null,
   "metadata": {},
   "outputs": [],
   "source": []
  },
  {
   "cell_type": "code",
   "execution_count": null,
   "metadata": {},
   "outputs": [],
   "source": [
    "# "
   ]
  },
  {
   "cell_type": "markdown",
   "metadata": {},
   "source": [
    "**References**\n",
    "\n",
    "- GÉRON, Aurélien. Hands-On Machine Learning with Scikit-Learn, Keras, and TensorFlow: Concepts, Tools, and Techniques to Build Intelligent Systems. O'Reilly Media, 2019.\n",
    "- CHOLLET, Francois. Deep Learning with Python and Keras. Manning Publications, 2018."
   ]
  }
 ],
 "metadata": {
  "language_info": {
   "codemirror_mode": {
    "name": "ipython",
    "version": 3
   },
   "file_extension": ".py",
   "mimetype": "text/x-python",
   "name": "python",
   "nbconvert_exporter": "python",
   "pygments_lexer": "ipython3",
   "version": 3
  },
  "orig_nbformat": 2
 },
 "nbformat": 4,
 "nbformat_minor": 2
}